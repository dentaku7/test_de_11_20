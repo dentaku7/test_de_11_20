{
 "cells": [
  {
   "cell_type": "markdown",
   "metadata": {},
   "source": [
    "# Задание 1"
   ]
  },
  {
   "cell_type": "code",
   "execution_count": null,
   "metadata": {},
   "outputs": [],
   "source": [
    "import sys\n",
    "sys.path.append('/code')\n",
    "\n",
    "from os import environ\n",
    "import psycopg2\n",
    "import pandas as pd\n",
    "\n",
    "from task_1_generate_data import generate_data"
   ]
  },
  {
   "cell_type": "code",
   "execution_count": null,
   "metadata": {},
   "outputs": [],
   "source": [
    "DB_HOST = environ[\"DB_HOST\" ]\n",
    "DATA_DIR = environ[\"TASK_1_DATA_DIR\"]"
   ]
  },
  {
   "cell_type": "code",
   "execution_count": null,
   "metadata": {},
   "outputs": [],
   "source": [
    "sql_uri = f\"postgresql://postgres:postgres@{DB_HOST}:5432/task_1\""
   ]
  },
  {
   "cell_type": "code",
   "execution_count": null,
   "metadata": {},
   "outputs": [],
   "source": [
    "# Вспомогательная функция\n",
    "def execute_df(query):\n",
    "    pg_cursor = psycopg2.connect(sql_uri).cursor()\n",
    "    pg_cursor.execute(query)\n",
    "    names = [metadata[0] for metadata in pg_cursor.description]\n",
    "    return pd.DataFrame.from_records(pg_cursor.fetchall(), columns=names)"
   ]
  },
  {
   "cell_type": "markdown",
   "metadata": {},
   "source": [
    "## Подготовка данных"
   ]
  },
  {
   "cell_type": "markdown",
   "metadata": {},
   "source": [
    "В задаче указаны разные базы для разных таблиц но тогда задачу не решить написав один SQL на задание. Поэтому я все таблицы сложил в одну базу."
   ]
  },
  {
   "cell_type": "code",
   "execution_count": null,
   "metadata": {},
   "outputs": [],
   "source": [
    "# Эта команда:\n",
    "#   Создаст базу данных вместе с таблицами\n",
    "#   сгенерирует CSV с фейковыми данными и загрузит в базу\n",
    "\n",
    "generate_data(users=1000,\n",
    "              logins_up_to_per_user=3,\n",
    "              operations_up_to_per_login=10,\n",
    "              orders_up_to_per_login=100)"
   ]
  },
  {
   "cell_type": "markdown",
   "metadata": {},
   "source": [
    "### Задача 1"
   ]
  },
  {
   "cell_type": "markdown",
   "metadata": {},
   "source": [
    "Идея запроса в том, чтобы отследить время перехода между этапами воронки в рамках каждого логина. На здравом смысле кажется что воронки должны считаться по логинам. Но так как нам нужно считать среднее время для клиента, то после расчёта времени перехода между этапами воронки выбирается миинимальное время для каждого этапа в рамках клиента (user_uid). То есть если у клиента есть два логина и в время перехода между этапами вопронки выглядит как: [1, 3]; [3; 2] то время перехода между этапами для клиента будет выбрано как: [1, 2]."
   ]
  },
  {
   "cell_type": "code",
   "execution_count": null,
   "metadata": {},
   "outputs": [],
   "source": [
    "query = \"\"\"\n",
    "with user_logins as (\n",
    "    select uid,\n",
    "           u.registration_date,\n",
    "           country,\n",
    "           login\n",
    "    from tb_users as u\n",
    "             left join\n",
    "         tb_logins as l\n",
    "         on\n",
    "                 u.uid = l.user_uid\n",
    "                 and account_type = 'real'\n",
    "    where u.registration_date >= current_timestamp - interval '90 days'\n",
    "),\n",
    "\n",
    "\n",
    "     logins_step1 as (\n",
    "         select uid,\n",
    "                u.login,\n",
    "                country,\n",
    "                registration_date,\n",
    "                first_operation_date                       as first_operation_date,\n",
    "                (first_operation_date - registration_date) as time_to_step1\n",
    "         from user_logins as u\n",
    "                  left join (\n",
    "             select login,\n",
    "                    min(operation_date) as first_operation_date\n",
    "             from tb_operations\n",
    "             where operation_type = 'deposit'\n",
    "             group by login\n",
    "         )\n",
    "             as op\n",
    "                            on op.login = u.login\n",
    "         where op.login is not null\n",
    "           and op.first_operation_date is not null\n",
    "     ),\n",
    "\n",
    "     logins_step2 as (\n",
    "         select uid,\n",
    "                u.login,\n",
    "                country,\n",
    "                first_operation_date,\n",
    "                first_order_date,\n",
    "                time_to_step1,\n",
    "                (first_order_date - first_operation_date) as time_to_step2\n",
    "         from logins_step1 as u\n",
    "                  left join (\n",
    "             select login,\n",
    "                    min(order_close_date) as first_order_date\n",
    "             from tb_orders\n",
    "             group by login\n",
    "         ) as ord\n",
    "                            on ord.login = u.login\n",
    "         where ord.login is not null\n",
    "           and ord.first_order_date is not null\n",
    "     )\n",
    "\n",
    "select user_logins.country,\n",
    "       count(user_logins.uid) as users_step0,\n",
    "       count(users_step1.uid) as users_step1,\n",
    "       count(users_step2.uid) as users_step2,\n",
    "       avg(time_to_step1)     as avg_time_to_step1,\n",
    "       avg(time_to_step2)     as avg_time_to_step2\n",
    "from user_logins\n",
    "         left join (\n",
    "    select uid,\n",
    "           min(time_to_step1) as time_to_step1\n",
    "    from logins_step1\n",
    "    group by uid\n",
    ") as users_step1\n",
    "                   on users_step1.uid = user_logins.uid\n",
    "         left join (\n",
    "    select uid,\n",
    "           min(time_to_step2) as time_to_step2\n",
    "    from logins_step2\n",
    "    group by uid\n",
    ") as users_step2\n",
    "                   on users_step1.uid = users_step2.uid\n",
    "group by country\n",
    "order by users_step0 desc;\n",
    "\"\"\"\n",
    "df = execute_df(query)\n",
    "df"
   ]
  },
  {
   "cell_type": "markdown",
   "metadata": {},
   "source": [
    "### Задача 2"
   ]
  },
  {
   "cell_type": "code",
   "execution_count": null,
   "metadata": {},
   "outputs": [],
   "source": [
    "query = \"\"\"\n",
    "select country,\n",
    "       count(uid) as users_count,\n",
    "       sum(\n",
    "               case\n",
    "                   when avg_amount >= 1000 then 1\n",
    "                   else 0\n",
    "                   end\n",
    "           )      as users_with_avg_deposit_gt_1000\n",
    "from (\n",
    "         select country, uid, avg(amount) as avg_amount\n",
    "         from tb_users as u\n",
    "                  left join tb_logins as l on l.user_uid = u.uid\n",
    "                  left join tb_operations t on l.login = t.login\n",
    "         where operation_type = 'deposit'\n",
    "         group by country, uid\n",
    "     ) as a1\n",
    "group by country\n",
    "order by users_count desc;\n",
    "\"\"\"\n",
    "df = execute_df(query)\n",
    "df"
   ]
  },
  {
   "cell_type": "markdown",
   "metadata": {},
   "source": [
    "### Задача 3"
   ]
  },
  {
   "cell_type": "code",
   "execution_count": null,
   "metadata": {},
   "outputs": [],
   "source": [
    "query = \"\"\"\n",
    "with ordered_deposits as (\n",
    "    select uid,\n",
    "           l.login,\n",
    "           operation_date,\n",
    "           row_number() over (partition by uid order by operation_date) as deposit_order\n",
    "    from tb_users as u\n",
    "             left join tb_logins as l on l.user_uid = u.uid\n",
    "             left join tb_operations op on l.login = op.login\n",
    "    where operation_type = 'deposit'\n",
    ")\n",
    "select *\n",
    "from ordered_deposits\n",
    "where deposit_order < 4;\n",
    "\"\"\"\n",
    "df = execute_df(query)\n",
    "df"
   ]
  }
 ],
 "metadata": {
  "kernelspec": {
   "display_name": "Python 3",
   "language": "python",
   "name": "python3"
  },
  "language_info": {
   "codemirror_mode": {
    "name": "ipython",
    "version": 3
   },
   "file_extension": ".py",
   "mimetype": "text/x-python",
   "name": "python",
   "nbconvert_exporter": "python",
   "pygments_lexer": "ipython3",
   "version": "3.8.0"
  }
 },
 "nbformat": 4,
 "nbformat_minor": 4
}